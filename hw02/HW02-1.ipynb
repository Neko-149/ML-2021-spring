{
 "cells": [
  {
   "cell_type": "markdown",
   "metadata": {
    "colab_type": "text",
    "id": "view-in-github"
   },
   "source": [
    "<a href=\"https://colab.research.google.com/github/ga642381/ML2021-Spring/blob/main/HW02/HW02-1.ipynb\" target=\"_parent\"><img src=\"https://colab.research.google.com/assets/colab-badge.svg\" alt=\"Open In Colab\"/></a>"
   ]
  },
  {
   "cell_type": "markdown",
   "metadata": {
    "id": "OYlaRwNu7ojq"
   },
   "source": [
    "# **Homework 2-1 Phoneme Classification**\n",
    "\n",
    "* Slides: https://speech.ee.ntu.edu.tw/~hylee/ml/ml2021-course-data/hw/HW02/HW02.pdf\n",
    "* Video (Chinese): https://youtu.be/PdjXnQbu2zo\n",
    "* Video (English): https://youtu.be/ESRr-VCykBs\n"
   ]
  },
  {
   "cell_type": "markdown",
   "metadata": {
    "id": "emUd7uS7crTz"
   },
   "source": [
    "## The DARPA TIMIT Acoustic-Phonetic Continuous Speech Corpus (TIMIT)\n",
    "The TIMIT corpus of reading speech has been designed to provide speech data for the acquisition of acoustic-phonetic knowledge and for the development and evaluation of automatic speech recognition systems.\n",
    "\n",
    "This homework is a multiclass classification task, \n",
    "we are going to train a deep neural network classifier to predict the phonemes for each frame from the speech corpus TIMIT.\n",
    "\n",
    "link: https://academictorrents.com/details/34e2b78745138186976cbc27939b1b34d18bd5b3"
   ]
  },
  {
   "cell_type": "markdown",
   "metadata": {
    "id": "KVUGfWTo7_Oj"
   },
   "source": [
    "## Download Data\n",
    "Download data from google drive, then unzip it.\n",
    "\n",
    "You should have `timit_11/train_11.npy`, `timit_11/train_label_11.npy`, and `timit_11/test_11.npy` after running this block.<br><br>\n",
    "`timit_11/`\n",
    "- `train_11.npy`: training data<br>\n",
    "- `train_label_11.npy`: training label<br>\n",
    "- `test_11.npy`:  testing data<br><br>\n",
    "\n",
    "**notes: if the google drive link is dead, you can download the data directly from Kaggle and upload it to the workspace**\n",
    "\n",
    "\n"
   ]
  },
  {
   "cell_type": "code",
   "execution_count": 26,
   "metadata": {
    "colab": {
     "base_uri": "https://localhost:8080/"
    },
    "id": "OzkiMEcC3Foq",
    "outputId": "4308c64c-6885-4d1c-8eb7-a2d9b8038401"
   },
   "outputs": [],
   "source": [
    "#!gdown --id '1HPkcmQmFGu-3OknddKIa5dNDsR05lIQR' --output data.zip\n",
    "#!unzip data.zip\n",
    "#!ls "
   ]
  },
  {
   "cell_type": "markdown",
   "metadata": {
    "id": "_L_4anls8Drv"
   },
   "source": [
    "## Preparing Data\n",
    "Load the training and testing data from the `.npy` file (NumPy array)."
   ]
  },
  {
   "cell_type": "code",
   "execution_count": 27,
   "metadata": {
    "colab": {
     "base_uri": "https://localhost:8080/"
    },
    "id": "IJjLT8em-y9G",
    "outputId": "8edc6bfe-7511-447f-f239-00b96dba6dcf"
   },
   "outputs": [
    {
     "name": "stdout",
     "output_type": "stream",
     "text": [
      "Loading data ...\n",
      "Size of training data: (1229932, 429)\n",
      "Size of testing data: (451552, 429)\n"
     ]
    }
   ],
   "source": [
    "import numpy as np\n",
    "\n",
    "print('Loading data ...')\n",
    "\n",
    "data_root='timit_11/'\n",
    "train = np.load(data_root + 'train_11.npy')\n",
    "train_label = np.load(data_root + 'train_label_11.npy')\n",
    "test = np.load(data_root + 'test_11.npy')\n",
    "\n",
    "print('Size of training data: {}'.format(train.shape))\n",
    "print('Size of testing data: {}'.format(test.shape))"
   ]
  },
  {
   "cell_type": "markdown",
   "metadata": {
    "id": "us5XW_x6udZQ"
   },
   "source": [
    "## Create Dataset"
   ]
  },
  {
   "cell_type": "code",
   "execution_count": 28,
   "metadata": {
    "id": "Fjf5EcmJtf4e"
   },
   "outputs": [],
   "source": [
    "import torch\n",
    "from torch.utils.data import Dataset\n",
    "\n",
    "class TIMITDataset(Dataset):\n",
    "    def __init__(self, X, y=None):\n",
    "        self.data = torch.from_numpy(X).float()\n",
    "        self.data=(self.data-(self.data.mean(dim=0, keepdim=True)))/self.data.std(dim=0, keepdim=True)\n",
    "        if y is not None:\n",
    "            y = y.astype(np.int)\n",
    "            self.label = torch.LongTensor(y)\n",
    "        else:\n",
    "            self.label = None\n",
    "\n",
    "    def __getitem__(self, idx):\n",
    "        if self.label is not None:\n",
    "            return self.data[idx], self.label[idx]\n",
    "        else:\n",
    "            return self.data[idx]\n",
    "\n",
    "    def __len__(self):\n",
    "        return len(self.data)\n"
   ]
  },
  {
   "cell_type": "markdown",
   "metadata": {
    "id": "otIC6WhGeh9v"
   },
   "source": [
    "Split the labeled data into a training set and a validation set, you can modify the variable `VAL_RATIO` to change the ratio of validation data."
   ]
  },
  {
   "cell_type": "code",
   "execution_count": 29,
   "metadata": {
    "colab": {
     "base_uri": "https://localhost:8080/"
    },
    "id": "sYqi_lAuvC59",
    "outputId": "13dabe63-4849-47ee-fe04-57427b9d601c"
   },
   "outputs": [
    {
     "name": "stdout",
     "output_type": "stream",
     "text": [
      "Size of training set: (983945, 429)\n",
      "Size of validation set: (245987, 429)\n"
     ]
    }
   ],
   "source": [
    "VAL_RATIO = 0.2\n",
    "indices_train = [i for i in range(train.shape[0]) if i % 5 != 0]\n",
    "indices_val = [i for i in range(train.shape[0]) if i % 5 == 0]\n",
    "#percent = int(train.shape[0] * (1 - VAL_RATIO))\n",
    "train_x, train_y, val_x, val_y = train[indices_train], train_label[indices_train], train[indices_val], train_label[indices_val]\n",
    "print('Size of training set: {}'.format(train_x.shape))\n",
    "print('Size of validation set: {}'.format(val_x.shape))"
   ]
  },
  {
   "cell_type": "markdown",
   "metadata": {
    "id": "nbCfclUIgMTX"
   },
   "source": [
    "Create a data loader from the dataset, feel free to tweak the variable `BATCH_SIZE` here."
   ]
  },
  {
   "cell_type": "code",
   "execution_count": 30,
   "metadata": {
    "id": "RUCbQvqJurYc"
   },
   "outputs": [
    {
     "name": "stderr",
     "output_type": "stream",
     "text": [
      "C:\\Users\\Yu Xueqing\\AppData\\Local\\Temp\\ipykernel_20812\\1610390168.py:9: DeprecationWarning: `np.int` is a deprecated alias for the builtin `int`. To silence this warning, use `int` by itself. Doing this will not modify any behavior and is safe. When replacing `np.int`, you may wish to use e.g. `np.int64` or `np.int32` to specify the precision. If you wish to review your current use, check the release note link for additional information.\n",
      "Deprecated in NumPy 1.20; for more details and guidance: https://numpy.org/devdocs/release/1.20.0-notes.html#deprecations\n",
      "  y = y.astype(np.int)\n"
     ]
    }
   ],
   "source": [
    "BATCH_SIZE = 256\n",
    "\n",
    "from torch.utils.data import DataLoader\n",
    "\n",
    "train_set = TIMITDataset(train_x, train_y)\n",
    "val_set = TIMITDataset(val_x, val_y)\n",
    "train_loader = DataLoader(train_set, batch_size=BATCH_SIZE, shuffle=True) #only shuffle the training data\n",
    "val_loader = DataLoader(val_set, batch_size=BATCH_SIZE, shuffle=False)"
   ]
  },
  {
   "cell_type": "markdown",
   "metadata": {
    "id": "_SY7X0lUgb50"
   },
   "source": [
    "Cleanup the unneeded variables to save memory.<br>\n",
    "\n",
    "**notes: if you need to use these variables later, then you may remove this block or clean up unneeded variables later<br>the data size is quite huge, so be aware of memory usage in colab**"
   ]
  },
  {
   "cell_type": "code",
   "execution_count": 31,
   "metadata": {
    "colab": {
     "base_uri": "https://localhost:8080/"
    },
    "id": "y8rzkGraeYeN",
    "outputId": "dc790996-a43c-4a99-90d4-e7928892a899"
   },
   "outputs": [
    {
     "data": {
      "text/plain": [
       "584"
      ]
     },
     "execution_count": 31,
     "metadata": {},
     "output_type": "execute_result"
    }
   ],
   "source": [
    "import gc\n",
    "\n",
    "del train, train_label, train_x, train_y, val_x, val_y\n",
    "gc.collect()"
   ]
  },
  {
   "cell_type": "markdown",
   "metadata": {
    "id": "IRqKNvNZwe3V"
   },
   "source": [
    "## Create Model"
   ]
  },
  {
   "cell_type": "markdown",
   "metadata": {
    "id": "FYr1ng5fh9pA"
   },
   "source": [
    "Define model architecture, you are encouraged to change and experiment with the model architecture."
   ]
  },
  {
   "cell_type": "code",
   "execution_count": 32,
   "metadata": {
    "id": "lbZrwT6Ny0XL"
   },
   "outputs": [],
   "source": [
    "import torch\n",
    "import torch.nn as nn\n",
    "\n",
    "class Classifier(nn.Module):\n",
    "    def __init__(self):\n",
    "        super(Classifier, self).__init__()\n",
    "        self.layer1 = nn.Linear(429, 1024)\n",
    "        self.layer2 = nn.Linear(1024,512)\n",
    "        self.layer3 = nn.Linear(512, 1024)\n",
    "        self.layer4= nn.Linear(1024,256)\n",
    "        self.out = nn.Linear(256, 39) \n",
    "        self.dropout = nn.Dropout(p=0.5)\n",
    "\n",
    "        self.act_fn = nn.LeakyReLU()\n",
    "\n",
    "    def forward(self, x):\n",
    "        x = self.layer1(x)\n",
    "        #x=self.dropout(x)\n",
    "        x = self.act_fn(x)\n",
    "\n",
    "        x = self.layer2(x)\n",
    "        x = self.act_fn(x)\n",
    "\n",
    "        x=self.layer3(x)\n",
    "        x=self.dropout(x)\n",
    "        x= self.act_fn(x)\n",
    "        \n",
    "        x=self.layer4(x)\n",
    "        x= self.act_fn(x)\n",
    "        \n",
    "        x = self.out(x)\n",
    "        \n",
    "        return x"
   ]
  },
  {
   "cell_type": "markdown",
   "metadata": {
    "id": "VRYciXZvPbYh"
   },
   "source": [
    "## Training"
   ]
  },
  {
   "cell_type": "code",
   "execution_count": 33,
   "metadata": {
    "id": "y114Vmm3Ja6o"
   },
   "outputs": [],
   "source": [
    "#check device\n",
    "def get_device():\n",
    "  return 'cuda' if torch.cuda.is_available() else 'cpu'"
   ]
  },
  {
   "cell_type": "markdown",
   "metadata": {
    "id": "sEX-yjHjhGuH"
   },
   "source": [
    "Fix random seeds for reproducibility."
   ]
  },
  {
   "cell_type": "code",
   "execution_count": 34,
   "metadata": {
    "id": "88xPiUnm0tAd"
   },
   "outputs": [],
   "source": [
    "# fix random seed\n",
    "def same_seeds(seed):\n",
    "    torch.manual_seed(seed)\n",
    "    if torch.cuda.is_available():\n",
    "        torch.cuda.manual_seed(seed)\n",
    "        torch.cuda.manual_seed_all(seed)  \n",
    "    np.random.seed(seed)  \n",
    "    torch.backends.cudnn.benchmark = False\n",
    "    torch.backends.cudnn.deterministic = True"
   ]
  },
  {
   "cell_type": "markdown",
   "metadata": {
    "id": "KbBcBXkSp6RA"
   },
   "source": [
    "Feel free to change the training parameters here."
   ]
  },
  {
   "cell_type": "code",
   "execution_count": 35,
   "metadata": {
    "id": "QTp3ZXg1yO9Y"
   },
   "outputs": [
    {
     "name": "stdout",
     "output_type": "stream",
     "text": [
      "DEVICE: cuda\n"
     ]
    }
   ],
   "source": [
    "# fix random seed for reproducibility\n",
    "same_seeds(0)\n",
    "\n",
    "# get device \n",
    "device = get_device()\n",
    "print(f'DEVICE: {device}')\n",
    "\n",
    "# training parameters\n",
    "num_epoch = 50               # number of training epoch\n",
    "learning_rate = 0.0003       # learning rate\n",
    "\n",
    "# the path where checkpoint saved\n",
    "model_path = 'model.ckpt'\n",
    "\n",
    "# create model, define a loss function, and optimizer\n",
    "model = Classifier().to(device)\n",
    "criterion = nn.CrossEntropyLoss() \n",
    "optimizer = torch.optim.Adam(model.parameters(), lr=learning_rate,weight_decay=0.0006)"
   ]
  },
  {
   "cell_type": "code",
   "execution_count": 36,
   "metadata": {
    "colab": {
     "base_uri": "https://localhost:8080/"
    },
    "id": "CdMWsBs7zzNs",
    "outputId": "c5ed561e-610d-4a35-d936-fd97adf342a0"
   },
   "outputs": [
    {
     "name": "stdout",
     "output_type": "stream",
     "text": [
      "[001/050] Train Acc: 0.610649 Loss: 1.259485 | Val Acc: 0.669958 loss: 1.035127\n",
      "saving model with acc 0.670\n",
      "[002/050] Train Acc: 0.680057 Loss: 1.003384 | Val Acc: 0.699175 loss: 0.933024\n",
      "saving model with acc 0.699\n",
      "[003/050] Train Acc: 0.700285 Loss: 0.930933 | Val Acc: 0.709090 loss: 0.897417\n",
      "saving model with acc 0.709\n",
      "[004/050] Train Acc: 0.710901 Loss: 0.889921 | Val Acc: 0.719119 loss: 0.860083\n",
      "saving model with acc 0.719\n",
      "[005/050] Train Acc: 0.719641 Loss: 0.861958 | Val Acc: 0.726957 loss: 0.835244\n",
      "saving model with acc 0.727\n",
      "[006/050] Train Acc: 0.724950 Loss: 0.841590 | Val Acc: 0.732010 loss: 0.817095\n",
      "saving model with acc 0.732\n",
      "[007/050] Train Acc: 0.729535 Loss: 0.825222 | Val Acc: 0.734006 loss: 0.810328\n",
      "saving model with acc 0.734\n",
      "[008/050] Train Acc: 0.733179 Loss: 0.812392 | Val Acc: 0.733388 loss: 0.809443\n",
      "[009/050] Train Acc: 0.736652 Loss: 0.799903 | Val Acc: 0.741527 loss: 0.784587\n",
      "saving model with acc 0.742\n",
      "[010/050] Train Acc: 0.739796 Loss: 0.790441 | Val Acc: 0.739811 loss: 0.788309\n",
      "[011/050] Train Acc: 0.742062 Loss: 0.782054 | Val Acc: 0.739657 loss: 0.789382\n",
      "[012/050] Train Acc: 0.744436 Loss: 0.774878 | Val Acc: 0.742673 loss: 0.779348\n",
      "saving model with acc 0.743\n",
      "[013/050] Train Acc: 0.746252 Loss: 0.768871 | Val Acc: 0.748767 loss: 0.760522\n",
      "saving model with acc 0.749\n",
      "[014/050] Train Acc: 0.748013 Loss: 0.762089 | Val Acc: 0.746857 loss: 0.762622\n",
      "[015/050] Train Acc: 0.749887 Loss: 0.756701 | Val Acc: 0.749422 loss: 0.758454\n",
      "saving model with acc 0.749\n",
      "[016/050] Train Acc: 0.751045 Loss: 0.752854 | Val Acc: 0.748357 loss: 0.761592\n",
      "[017/050] Train Acc: 0.751976 Loss: 0.748919 | Val Acc: 0.751954 loss: 0.749239\n",
      "saving model with acc 0.752\n",
      "[018/050] Train Acc: 0.753312 Loss: 0.744509 | Val Acc: 0.749779 loss: 0.753845\n",
      "[019/050] Train Acc: 0.754906 Loss: 0.740410 | Val Acc: 0.749109 loss: 0.759405\n",
      "[020/050] Train Acc: 0.755306 Loss: 0.738084 | Val Acc: 0.753414 loss: 0.742439\n",
      "saving model with acc 0.753\n",
      "[021/050] Train Acc: 0.756427 Loss: 0.734371 | Val Acc: 0.749141 loss: 0.756194\n",
      "[022/050] Train Acc: 0.756647 Loss: 0.732014 | Val Acc: 0.754589 loss: 0.739633\n",
      "saving model with acc 0.755\n",
      "[023/050] Train Acc: 0.758097 Loss: 0.728047 | Val Acc: 0.755845 loss: 0.735141\n",
      "saving model with acc 0.756\n",
      "[024/050] Train Acc: 0.759457 Loss: 0.725425 | Val Acc: 0.754776 loss: 0.737169\n",
      "[025/050] Train Acc: 0.760042 Loss: 0.723094 | Val Acc: 0.752832 loss: 0.741510\n",
      "[026/050] Train Acc: 0.760831 Loss: 0.720375 | Val Acc: 0.756341 loss: 0.734990\n",
      "saving model with acc 0.756\n",
      "[027/050] Train Acc: 0.761090 Loss: 0.718470 | Val Acc: 0.757219 loss: 0.732594\n",
      "saving model with acc 0.757\n",
      "[028/050] Train Acc: 0.761609 Loss: 0.716408 | Val Acc: 0.755410 loss: 0.738494\n",
      "[029/050] Train Acc: 0.762654 Loss: 0.714189 | Val Acc: 0.756552 loss: 0.733964\n",
      "[030/050] Train Acc: 0.763537 Loss: 0.712585 | Val Acc: 0.753410 loss: 0.743567\n",
      "[031/050] Train Acc: 0.762969 Loss: 0.711831 | Val Acc: 0.756808 loss: 0.731792\n",
      "[032/050] Train Acc: 0.763872 Loss: 0.709071 | Val Acc: 0.756780 loss: 0.727053\n",
      "[033/050] Train Acc: 0.764549 Loss: 0.707045 | Val Acc: 0.756085 loss: 0.737353\n",
      "[034/050] Train Acc: 0.765140 Loss: 0.705976 | Val Acc: 0.757316 loss: 0.730229\n",
      "saving model with acc 0.757\n",
      "[035/050] Train Acc: 0.765615 Loss: 0.703984 | Val Acc: 0.756211 loss: 0.732021\n",
      "[036/050] Train Acc: 0.766042 Loss: 0.703881 | Val Acc: 0.755788 loss: 0.735383\n",
      "[037/050] Train Acc: 0.765922 Loss: 0.701842 | Val Acc: 0.757170 loss: 0.729663\n",
      "[038/050] Train Acc: 0.767060 Loss: 0.700627 | Val Acc: 0.759512 loss: 0.723978\n",
      "saving model with acc 0.760\n",
      "[039/050] Train Acc: 0.766968 Loss: 0.699090 | Val Acc: 0.758861 loss: 0.723576\n",
      "[040/050] Train Acc: 0.767478 Loss: 0.698718 | Val Acc: 0.758113 loss: 0.728669\n",
      "[041/050] Train Acc: 0.767584 Loss: 0.697901 | Val Acc: 0.757890 loss: 0.730335\n",
      "[042/050] Train Acc: 0.768139 Loss: 0.696556 | Val Acc: 0.760630 loss: 0.716407\n",
      "saving model with acc 0.761\n",
      "[043/050] Train Acc: 0.768198 Loss: 0.695651 | Val Acc: 0.763048 loss: 0.714252\n",
      "saving model with acc 0.763\n",
      "[044/050] Train Acc: 0.768753 Loss: 0.694421 | Val Acc: 0.761695 loss: 0.715724\n",
      "[045/050] Train Acc: 0.769317 Loss: 0.693567 | Val Acc: 0.762528 loss: 0.714668\n",
      "[046/050] Train Acc: 0.769076 Loss: 0.693283 | Val Acc: 0.758430 loss: 0.725400\n",
      "[047/050] Train Acc: 0.769037 Loss: 0.692572 | Val Acc: 0.761410 loss: 0.718041\n",
      "[048/050] Train Acc: 0.769592 Loss: 0.691442 | Val Acc: 0.761272 loss: 0.718110\n",
      "[049/050] Train Acc: 0.769723 Loss: 0.689867 | Val Acc: 0.761272 loss: 0.717671\n",
      "[050/050] Train Acc: 0.770511 Loss: 0.688832 | Val Acc: 0.760117 loss: 0.723285\n"
     ]
    }
   ],
   "source": [
    "# start training\n",
    "\n",
    "best_acc = 0.0\n",
    "for epoch in range(num_epoch):\n",
    "    train_acc = 0.0\n",
    "    train_loss = 0.0\n",
    "    val_acc = 0.0\n",
    "    val_loss = 0.0\n",
    "\n",
    "    # training\n",
    "    model.train() # set the model to training mode\n",
    "    for i, data in enumerate(train_loader):\n",
    "        inputs, labels = data\n",
    "        inputs, labels = inputs.to(device), labels.to(device)\n",
    "        optimizer.zero_grad() \n",
    "        outputs = model(inputs) \n",
    "        batch_loss = criterion(outputs, labels)\n",
    "        _, train_pred = torch.max(outputs, 1) # get the index of the class with the highest probability\n",
    "        batch_loss.backward() \n",
    "        optimizer.step() \n",
    "\n",
    "        train_acc += (train_pred.cpu() == labels.cpu()).sum().item()\n",
    "        train_loss += batch_loss.item()\n",
    "\n",
    "    # validation\n",
    "    if len(val_set) > 0:\n",
    "        model.eval() # set the model to evaluation mode\n",
    "        with torch.no_grad():\n",
    "            for i, data in enumerate(val_loader):\n",
    "                inputs, labels = data\n",
    "                inputs, labels = inputs.to(device), labels.to(device)\n",
    "                outputs = model(inputs)\n",
    "                batch_loss = criterion(outputs, labels) \n",
    "                _, val_pred = torch.max(outputs, 1) \n",
    "            \n",
    "                val_acc += (val_pred.cpu() == labels.cpu()).sum().item() # get the index of the class with the highest probability\n",
    "                val_loss += batch_loss.item()\n",
    "\n",
    "            print('[{:03d}/{:03d}] Train Acc: {:3.6f} Loss: {:3.6f} | Val Acc: {:3.6f} loss: {:3.6f}'.format(\n",
    "                epoch + 1, num_epoch, train_acc/len(train_set), train_loss/len(train_loader), val_acc/len(val_set), val_loss/len(val_loader)\n",
    "            ))\n",
    "\n",
    "            # if the model improves, save a checkpoint at this epoch\n",
    "            if val_acc > best_acc:\n",
    "                best_acc = val_acc\n",
    "                torch.save(model.state_dict(), model_path)\n",
    "                print('saving model with acc {:.3f}'.format(best_acc/len(val_set)))\n",
    "    else:\n",
    "        print('[{:03d}/{:03d}] Train Acc: {:3.6f} Loss: {:3.6f}'.format(\n",
    "            epoch + 1, num_epoch, train_acc/len(train_set), train_loss/len(train_loader)\n",
    "        ))\n",
    "\n",
    "# if not validating, save the last epoch\n",
    "if len(val_set) == 0:\n",
    "    torch.save(model.state_dict(), model_path)\n",
    "    print('saving model at last epoch')\n"
   ]
  },
  {
   "cell_type": "markdown",
   "metadata": {
    "id": "1Hi7jTn3PX-m"
   },
   "source": [
    "## Testing"
   ]
  },
  {
   "cell_type": "markdown",
   "metadata": {
    "id": "NfUECMFCn5VG"
   },
   "source": [
    "Create a testing dataset, and load model from the saved checkpoint."
   ]
  },
  {
   "cell_type": "code",
   "execution_count": 37,
   "metadata": {
    "colab": {
     "base_uri": "https://localhost:8080/"
    },
    "id": "1PKjtAScPWtr",
    "outputId": "8c17272b-536a-4692-a95f-a3292766c698"
   },
   "outputs": [
    {
     "data": {
      "text/plain": [
       "<All keys matched successfully>"
      ]
     },
     "execution_count": 37,
     "metadata": {},
     "output_type": "execute_result"
    }
   ],
   "source": [
    "# create testing dataset\n",
    "test_set = TIMITDataset(test, None)\n",
    "test_loader = DataLoader(test_set, batch_size=BATCH_SIZE, shuffle=False)\n",
    "\n",
    "# create model and load weights from checkpoint\n",
    "model = Classifier().to(device)\n",
    "model.load_state_dict(torch.load(model_path))"
   ]
  },
  {
   "cell_type": "markdown",
   "metadata": {
    "id": "940TtCCdoYd0"
   },
   "source": [
    "Make prediction."
   ]
  },
  {
   "cell_type": "code",
   "execution_count": 38,
   "metadata": {
    "id": "84HU5GGjPqR0"
   },
   "outputs": [],
   "source": [
    "predict = []\n",
    "model.eval() # set the model to evaluation mode\n",
    "with torch.no_grad():\n",
    "    for i, data in enumerate(test_loader):\n",
    "        inputs = data\n",
    "        inputs = inputs.to(device)\n",
    "        outputs = model(inputs)\n",
    "        _, test_pred = torch.max(outputs, 1) # get the index of the class with the highest probability\n",
    "\n",
    "        for y in test_pred.cpu().numpy():\n",
    "            predict.append(y)"
   ]
  },
  {
   "cell_type": "markdown",
   "metadata": {
    "id": "AWDf_C-omElb"
   },
   "source": [
    "Write prediction to a CSV file.\n",
    "\n",
    "After finish running this block, download the file `prediction.csv` from the files section on the left-hand side and submit it to Kaggle."
   ]
  },
  {
   "cell_type": "code",
   "execution_count": 39,
   "metadata": {
    "id": "GuljYSPHcZir"
   },
   "outputs": [],
   "source": [
    "with open('prediction.csv', 'w',newline='') as f:\n",
    "    f.write('Id,Class\\n')\n",
    "    for i, y in enumerate(predict):\n",
    "        f.write('{},{}\\n'.format(i, y))"
   ]
  }
 ],
 "metadata": {
  "accelerator": "GPU",
  "colab": {
   "collapsed_sections": [],
   "include_colab_link": true,
   "name": "SHARE MLSpring2021 - HW2-1.ipynb",
   "provenance": []
  },
  "kernelspec": {
   "display_name": "Python 3 (ipykernel)",
   "language": "python",
   "name": "python3"
  },
  "language_info": {
   "codemirror_mode": {
    "name": "ipython",
    "version": 3
   },
   "file_extension": ".py",
   "mimetype": "text/x-python",
   "name": "python",
   "nbconvert_exporter": "python",
   "pygments_lexer": "ipython3",
   "version": "3.10.4"
  }
 },
 "nbformat": 4,
 "nbformat_minor": 1
}
