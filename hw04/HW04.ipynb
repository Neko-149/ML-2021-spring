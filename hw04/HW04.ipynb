{
 "cells": [
  {
   "cell_type": "markdown",
   "metadata": {
    "id": "zC5KwRyl6Flp"
   },
   "source": [
    "# Task description\n",
    "- Classify the speakers of given features.\n",
    "- Main goal: Learn how to use transformer.\n",
    "- Baselines:\n",
    "  - Easy: Run sample code and know how to use transformer.\n",
    "  - Medium: Know how to adjust parameters of transformer.\n",
    "  - Hard: Construct [conformer](https://arxiv.org/abs/2005.08100) which is a variety of transformer. \n",
    "\n",
    "- Other links\n",
    "  - Kaggle: [link](https://www.kaggle.com/t/859c9ca9ede14fdea841be627c412322)\n",
    "  - Slide: [link](https://speech.ee.ntu.edu.tw/~hylee/ml/ml2021-course-data/hw/HW04/HW04.pdf)\n",
    "  - Data: [link](https://drive.google.com/file/d/1T0RPnu-Sg5eIPwQPfYysipfcz81MnsYe/view?usp=sharing)\n",
    "  - Video (Chinese): [link](https://www.youtube.com/watch?v=EPerg2UnGaI)\n",
    "  - Video (English): [link](https://www.youtube.com/watch?v=Gpz6AUvCak0)\n",
    "  - Solution for downloading dataset fail.: [link](https://drive.google.com/drive/folders/13T0Pa_WGgQxNkqZk781qhc5T9-zfh19e?usp=sharing)"
   ]
  },
  {
   "cell_type": "markdown",
   "metadata": {
    "id": "TPDoreyypeJE"
   },
   "source": [
    "# Download dataset\n",
    "- Please follow [here](https://drive.google.com/drive/folders/13T0Pa_WGgQxNkqZk781qhc5T9-zfh19e?usp=sharing) to download data\n",
    "- Data is [here](https://drive.google.com/file/d/1gaFy8RaQVUEXo2n0peCBR5gYKCB-mNHc/view?usp=sharing)"
   ]
  },
  {
   "cell_type": "code",
   "execution_count": 247,
   "metadata": {
    "id": "QvpaILXnJIcw"
   },
   "outputs": [],
   "source": [
    "#!gdown --id 'paste your own data download link' --output Dataset.zip\n",
    "#!unzip Dataset.zip"
   ]
  },
  {
   "cell_type": "markdown",
   "metadata": {
    "id": "v1gYr_aoNDue"
   },
   "source": [
    "# Data"
   ]
  },
  {
   "cell_type": "markdown",
   "metadata": {
    "id": "Mz_NpuAipk3h"
   },
   "source": [
    "## Dataset\n",
    "- Original dataset is [Voxceleb1](https://www.robots.ox.ac.uk/~vgg/data/voxceleb/).\n",
    "- The [license](https://creativecommons.org/licenses/by/4.0/) and [complete version](https://www.robots.ox.ac.uk/~vgg/data/voxceleb/files/license.txt) of Voxceleb1.\n",
    "- We randomly select 600 speakers from Voxceleb1.\n",
    "- Then preprocess the raw waveforms into mel-spectrograms.\n",
    "\n",
    "- Args:\n",
    "  - data_dir: The path to the data directory.\n",
    "  - metadata_path: The path to the metadata.\n",
    "  - segment_len: The length of audio segment for training. \n",
    "- The architecture of data directory \\\\\n",
    "  - data directory \\\\\n",
    "  |---- metadata.json \\\\\n",
    "  |---- testdata.json \\\\\n",
    "  |---- mapping.json \\\\\n",
    "  |---- uttr-{random string}.pt \\\\\n",
    "\n",
    "- The information in metadata\n",
    "  - \"n_mels\": The dimention of mel-spectrogram.\n",
    "  - \"speakers\": A dictionary. \n",
    "    - Key: speaker ids.\n",
    "    - value: \"feature_path\" and \"mel_len\"\n",
    "\n",
    "\n",
    "For efficiency, we segment the mel-spectrograms into segments in the traing step."
   ]
  },
  {
   "cell_type": "code",
   "execution_count": 248,
   "metadata": {
    "id": "cd7hoGhYtbXQ"
   },
   "outputs": [],
   "source": [
    "import os\n",
    "import json\n",
    "import torch\n",
    "import random\n",
    "from pathlib import Path\n",
    "from torch.utils.data import Dataset\n",
    "from torch.nn.utils.rnn import pad_sequence\n",
    "from time import sleep\n",
    " \n",
    "class myDataset(Dataset):\n",
    "  def __init__(self, data_dir, segment_len=128):\n",
    "    self.data_dir = data_dir\n",
    "    self.segment_len = segment_len\n",
    " \n",
    "    # Load the mapping from speaker neme to their corresponding id. \n",
    "    mapping_path = Path(data_dir) / \"mapping.json\"\n",
    "    mapping = json.load(mapping_path.open())\n",
    "    self.speaker2id = mapping[\"speaker2id\"]\n",
    " \n",
    "    # Load metadata of training data.\n",
    "    metadata_path = Path(data_dir) / \"metadata.json\"\n",
    "    metadata = json.load(open(metadata_path))[\"speakers\"]\n",
    " \n",
    "    # Get the total number of speaker.\n",
    "    self.speaker_num = len(metadata.keys())\n",
    "    self.data = []\n",
    "    for speaker in metadata.keys():\n",
    "      for utterances in metadata[speaker]:\n",
    "        self.data.append([utterances[\"feature_path\"], self.speaker2id[speaker]])\n",
    " \n",
    "  def __len__(self):\n",
    "    return len(self.data)\n",
    " \n",
    "  def __getitem__(self, index):\n",
    "    feat_path, speaker = self.data[index]\n",
    "    # Load preprocessed mel-spectrogram.\n",
    "    mel = torch.load(os.path.join(self.data_dir, feat_path))\n",
    " \n",
    "    # Segmemt mel-spectrogram into \"segment_len\" frames.\n",
    "    if len(mel) > self.segment_len:\n",
    "      # Randomly get the starting point of the segment.\n",
    "      start = random.randint(0, len(mel) - self.segment_len)\n",
    "      # Get a segment with \"segment_len\" frames.\n",
    "      mel = torch.FloatTensor(mel[start:start+self.segment_len])\n",
    "    else:\n",
    "      mel = torch.FloatTensor(mel)\n",
    "    # Turn the speaker id into long for computing loss later.\n",
    "    speaker = torch.FloatTensor([speaker]).long()\n",
    "    return mel, speaker\n",
    " \n",
    "  def get_speaker_number(self):\n",
    "    return self.speaker_num"
   ]
  },
  {
   "cell_type": "markdown",
   "metadata": {
    "id": "mqJxjoi_NGnB"
   },
   "source": [
    "## Dataloader\n",
    "- Split dataset into training dataset(90%) and validation dataset(10%).\n",
    "- Create dataloader to iterate the data.\n"
   ]
  },
  {
   "cell_type": "code",
   "execution_count": 249,
   "metadata": {
    "id": "zuT1AuFENI8t"
   },
   "outputs": [],
   "source": [
    "import torch\n",
    "from torch.utils.data import random_split\n",
    "from torch.utils.data import DataLoader\n",
    "from torch.nn.utils.rnn import pad_sequence\n",
    "\n",
    "\n",
    "def collate_batch(batch):\n",
    "  # Process features within a batch.\n",
    "  \"\"\"Collate a batch of data.\"\"\"\n",
    "  mel, speaker = zip(*batch)\n",
    "  # Because we train the model batch by batch, we need to pad the features in the same batch to make their lengths the same.\n",
    "  mel = pad_sequence(mel, batch_first=True, padding_value=-20)    # pad log 10^(-20) which is very small value.\n",
    "  # mel: (batch size, length, 40)\n",
    "  return mel, torch.FloatTensor(speaker).long()\n",
    "\n",
    "\n",
    "def get_dataloader(data_dir, batch_size, n_workers):\n",
    "  \"\"\"Generate dataloader\"\"\"\n",
    "  dataset = myDataset(data_dir)\n",
    "  speaker_num = dataset.get_speaker_number()\n",
    "  # Split dataset into training dataset and validation dataset\n",
    "  trainlen = int(0.9 * len(dataset))\n",
    "  lengths = [trainlen, len(dataset) - trainlen]\n",
    "  trainset, validset = random_split(dataset, lengths)\n",
    "\n",
    "  train_loader = DataLoader(\n",
    "    trainset,\n",
    "    batch_size=batch_size,\n",
    "    shuffle=True,\n",
    "    drop_last=True,\n",
    "    num_workers=n_workers,\n",
    "    pin_memory=False,\n",
    "    collate_fn=collate_batch,\n",
    "  )\n",
    "  valid_loader = DataLoader(\n",
    "    validset,\n",
    "    batch_size=batch_size,\n",
    "    num_workers=n_workers,\n",
    "    drop_last=True,\n",
    "    pin_memory=False,\n",
    "    collate_fn=collate_batch,\n",
    "  )\n",
    "\n",
    "  return train_loader, valid_loader, speaker_num\n"
   ]
  },
  {
   "cell_type": "markdown",
   "metadata": {
    "id": "X0x6eXiHpr4R"
   },
   "source": [
    "# Model\n",
    "- TransformerEncoderLayer:\n",
    "  - Base transformer encoder layer in [Attention Is All You Need](https://arxiv.org/abs/1706.03762)\n",
    "  - Parameters:\n",
    "    - d_model: the number of expected features of the input (required).\n",
    "\n",
    "    - nhead: the number of heads of the multiheadattention models (required).\n",
    "\n",
    "    - dim_feedforward: the dimension of the feedforward network model (default=2048).\n",
    "\n",
    "    - dropout: the dropout value (default=0.1).\n",
    "\n",
    "    - activation: the activation function of intermediate layer, relu or gelu (default=relu).\n",
    "\n",
    "- TransformerEncoder:\n",
    "  - TransformerEncoder is a stack of N transformer encoder layers\n",
    "  - Parameters:\n",
    "    - encoder_layer: an instance of the TransformerEncoderLayer() class (required).\n",
    "\n",
    "    - num_layers: the number of sub-encoder-layers in the encoder (required).\n",
    "\n",
    "    - norm: the layer normalization component (optional)."
   ]
  },
  {
   "cell_type": "code",
   "execution_count": 250,
   "metadata": {
    "id": "SHX4eVj4tjtd"
   },
   "outputs": [],
   "source": [
    "import torch\n",
    "import torch.nn as nn\n",
    "import torch.nn.functional as F\n",
    "import torchaudio.models\n",
    "\n",
    "\n",
    "    \n",
    "class Classifier(nn.Module):\n",
    "  def __init__(self, d_model=120, n_spks=600, dropout=0.2,device=torch.device(\"cuda\")):\n",
    "    super().__init__()\n",
    "    # Project the dimension of features from that of input into d_model.\n",
    "    self.prenet = nn.Linear(40, d_model)\n",
    "    # TODO:\n",
    "    #   Change Transformer to Conformer.\n",
    "    #   https://arxiv.org/abs/2005.08100\n",
    "    self.encoder_layer = nn.TransformerEncoderLayer(\n",
    "      d_model=d_model, dim_feedforward=256, nhead=4\n",
    "    )\n",
    "    self.encoder = nn.TransformerEncoder(self.encoder_layer, num_layers=2)\n",
    "    \n",
    "    self.conformerblock=torchaudio.models.Conformer(\n",
    "        input_dim=d_model,\n",
    "        num_heads=4,\n",
    "        ffn_dim=256,\n",
    "        num_layers=2,\n",
    "        depthwise_conv_kernel_size=31,\n",
    "        dropout=dropout)\n",
    "    \n",
    "    # Project the the dimension of features from d_model into speaker nums.\n",
    "    self.pred_layer = nn.Sequential(\n",
    "      nn.Linear(d_model, 256),\n",
    "      nn.ReLU(),\n",
    "      nn.Linear(256, n_spks),\n",
    "    )\n",
    "\n",
    "  def forward(self, mels):\n",
    "    \"\"\"\n",
    "    args:\n",
    "      mels: (batch size, length, 40)\n",
    "    return:\n",
    "      out: (batch size, n_spks)\n",
    "    \"\"\"\n",
    "    # out: (batch size, length, d_model)\n",
    "    out = self.prenet(mels)\n",
    "    # out: (length, batch size, d_model)\n",
    "    #out = out.permute(1, 0, 2)\n",
    "    # The encoder layer expect features in the shape of (length, batch size, d_model).\n",
    "    lengths=out.shape[1]\n",
    "    batchsize=out.shape[0]\n",
    "    out_len=torch.ones(batchsize)*lengths\n",
    "    out_len = out_len.to(device)\n",
    "    out,_ = self.conformerblock(out,out_len)\n",
    "    # out: (batch size, length, d_model)\n",
    "    #out = out.transpose(0, 1)\n",
    "    # mean pooling\n",
    "    stats = out.mean(dim=1)\n",
    "\n",
    "    # out: (batch, n_spks)\n",
    "    out = self.pred_layer(stats)\n",
    "    return out\n"
   ]
  },
  {
   "cell_type": "markdown",
   "metadata": {
    "id": "-__DolPGpvDZ"
   },
   "source": [
    "# Learning rate schedule\n",
    "- For transformer architecture, the design of learning rate schedule is different from that of CNN.\n",
    "- Previous works show that the warmup of learning rate is useful for training models with transformer architectures.\n",
    "- The warmup schedule\n",
    "  - Set learning rate to 0 in the beginning.\n",
    "  - The learning rate increases linearly from 0 to initial learning rate during warmup period."
   ]
  },
  {
   "cell_type": "code",
   "execution_count": 251,
   "metadata": {
    "id": "K-0816BntqT9"
   },
   "outputs": [],
   "source": [
    "import math\n",
    "\n",
    "import torch\n",
    "from torch.optim import Optimizer\n",
    "from torch.optim.lr_scheduler import LambdaLR\n",
    "\n",
    "\n",
    "def get_cosine_schedule_with_warmup(\n",
    "  optimizer: Optimizer,\n",
    "  num_warmup_steps: int,\n",
    "  num_training_steps: int,\n",
    "  num_cycles: float = 0.5,\n",
    "  last_epoch: int = -1,\n",
    "):\n",
    "  \"\"\"\n",
    "  Create a schedule with a learning rate that decreases following the values of the cosine function between the\n",
    "  initial lr set in the optimizer to 0, after a warmup period during which it increases linearly between 0 and the\n",
    "  initial lr set in the optimizer.\n",
    "\n",
    "  Args:\n",
    "    optimizer (:class:`~torch.optim.Optimizer`):\n",
    "      The optimizer for which to schedule the learning rate.\n",
    "    num_warmup_steps (:obj:`int`):\n",
    "      The number of steps for the warmup phase.\n",
    "    num_training_steps (:obj:`int`):\n",
    "      The total number of training steps.\n",
    "    num_cycles (:obj:`float`, `optional`, defaults to 0.5):\n",
    "      The number of waves in the cosine schedule (the defaults is to just decrease from the max value to 0\n",
    "      following a half-cosine).\n",
    "    last_epoch (:obj:`int`, `optional`, defaults to -1):\n",
    "      The index of the last epoch when resuming training.\n",
    "\n",
    "  Return:\n",
    "    :obj:`torch.optim.lr_scheduler.LambdaLR` with the appropriate schedule.\n",
    "  \"\"\"\n",
    "\n",
    "  def lr_lambda(current_step):\n",
    "    # Warmup\n",
    "    if current_step < num_warmup_steps:\n",
    "      return float(current_step) / float(max(1, num_warmup_steps))\n",
    "    # decadence\n",
    "    progress = float(current_step - num_warmup_steps) / float(\n",
    "      max(1, num_training_steps - num_warmup_steps)\n",
    "    )\n",
    "    return max(\n",
    "      0.0, 0.5 * (1.0 + math.cos(math.pi * float(num_cycles) * 2.0 * progress))\n",
    "    )\n",
    "\n",
    "  return LambdaLR(optimizer, lr_lambda, last_epoch)\n"
   ]
  },
  {
   "cell_type": "markdown",
   "metadata": {
    "id": "IP03FFo9K8DS"
   },
   "source": [
    "# Model Function\n",
    "- Model forward function."
   ]
  },
  {
   "cell_type": "code",
   "execution_count": 252,
   "metadata": {
    "id": "fohaLEFJK9-t"
   },
   "outputs": [],
   "source": [
    "import torch\n",
    "\n",
    "\n",
    "def model_fn(batch, model, criterion, device):\n",
    "  \"\"\"Forward a batch through the model.\"\"\"\n",
    "\n",
    "  mels, labels = batch\n",
    "  mels = mels.to(device)\n",
    "  labels = labels.to(device)\n",
    "\n",
    "  outs = model(mels)\n",
    "\n",
    "  loss = criterion(outs, labels)\n",
    "\n",
    "  # Get the speaker id with highest probability.\n",
    "  preds = outs.argmax(1)\n",
    "  # Compute accuracy.\n",
    "  accuracy = torch.mean((preds == labels).float())\n",
    "\n",
    "  return loss, accuracy\n"
   ]
  },
  {
   "cell_type": "markdown",
   "metadata": {
    "id": "F7cg-YrzLQcf"
   },
   "source": [
    "# Validate\n",
    "- Calculate accuracy of the validation set."
   ]
  },
  {
   "cell_type": "code",
   "execution_count": 253,
   "metadata": {
    "id": "mD-_p6nWLO2L"
   },
   "outputs": [],
   "source": [
    "from tqdm import tqdm\n",
    "import torch\n",
    "\n",
    "\n",
    "def valid(dataloader, model, criterion, device): \n",
    "  \"\"\"Validate on validation set.\"\"\"\n",
    "\n",
    "  model.eval()\n",
    "  running_loss = 0.0\n",
    "  running_accuracy = 0.0\n",
    "  pbar = tqdm(total=len(dataloader.dataset), ncols=0, desc=\"Valid\", unit=\" uttr\")\n",
    "\n",
    "  for i, batch in enumerate(dataloader):\n",
    "    with torch.no_grad():\n",
    "      loss, accuracy = model_fn(batch, model, criterion, device)\n",
    "      running_loss += loss.item()\n",
    "      running_accuracy += accuracy.item()\n",
    "\n",
    "    pbar.update(dataloader.batch_size)\n",
    "    pbar.set_postfix(\n",
    "      loss=f\"{running_loss / (i+1):.2f}\",\n",
    "      accuracy=f\"{running_accuracy / (i+1):.2f}\",\n",
    "    )\n",
    "    sleep(0.01)\n",
    "\n",
    "  pbar.close()\n",
    "  model.train()\n",
    "\n",
    "  return running_accuracy / len(dataloader)\n"
   ]
  },
  {
   "cell_type": "markdown",
   "metadata": {
    "id": "noHXyal5p1W5"
   },
   "source": [
    "# Main function"
   ]
  },
  {
   "cell_type": "code",
   "execution_count": 254,
   "metadata": {
    "id": "chRQE7oYtw62"
   },
   "outputs": [
    {
     "name": "stdout",
     "output_type": "stream",
     "text": [
      "[Info]: Use cuda now!\n",
      "get loader finished\n",
      "[Info]: Finish loading data!\n",
      "[Info]: Finish creating model!\n"
     ]
    },
    {
     "name": "stderr",
     "output_type": "stream",
     "text": [
      "Train: 100% 2000/2000 [02:18<00:00, 14.43 step/s, accuracy=0.34, loss=3.27, step=2000]\n",
      "Valid: 100% 6944/6944 [00:14<00:00, 491.89 uttr/s, accuracy=0.26, loss=3.50]\n",
      "Train: 100% 2000/2000 [02:20<00:00, 14.22 step/s, accuracy=0.41, loss=2.97, step=4000]\n",
      "Valid: 100% 6944/6944 [00:14<00:00, 475.89 uttr/s, accuracy=0.40, loss=2.74]\n",
      "Train: 100% 2000/2000 [02:20<00:00, 14.21 step/s, accuracy=0.59, loss=1.65, step=6000]\n",
      "Valid: 100% 6944/6944 [00:14<00:00, 493.95 uttr/s, accuracy=0.47, loss=2.31]\n",
      "Train: 100% 2000/2000 [02:20<00:00, 14.22 step/s, accuracy=0.69, loss=1.91, step=8000]\n",
      "Valid: 100% 6944/6944 [00:14<00:00, 477.75 uttr/s, accuracy=0.54, loss=2.01]\n",
      "Train: 100% 2000/2000 [02:20<00:00, 14.24 step/s, accuracy=0.59, loss=1.55, step=1e+4]\n",
      "Valid: 100% 6944/6944 [00:14<00:00, 475.16 uttr/s, accuracy=0.57, loss=1.89]\n",
      "Train:   0% 0/2000 [00:00<?, ? step/s]\n",
      "\n",
      "                                                                                    \n",
      "\n",
      "Train:   0% 3/2000 [00:00<02:11, 15.16 step/s, accuracy=0.56, loss=1.85, step=1e+4]]\u001b[A\u001b[A"
     ]
    },
    {
     "name": "stdout",
     "output_type": "stream",
     "text": [
      "Step 10000, best model saved. (accuracy=0.5698)\n"
     ]
    },
    {
     "name": "stderr",
     "output_type": "stream",
     "text": [
      "Train: 100% 2000/2000 [02:19<00:00, 14.29 step/s, accuracy=0.56, loss=1.24, step=12000]\n",
      "Valid: 100% 6944/6944 [00:14<00:00, 494.34 uttr/s, accuracy=0.60, loss=1.72]\n",
      "Train: 100% 2000/2000 [02:23<00:00, 13.91 step/s, accuracy=0.75, loss=1.06, step=14000]\n",
      "Valid: 100% 6944/6944 [00:13<00:00, 511.22 uttr/s, accuracy=0.63, loss=1.58]\n",
      "Train: 100% 2000/2000 [02:13<00:00, 14.98 step/s, accuracy=0.66, loss=1.39, step=16000]\n",
      "Valid: 100% 6944/6944 [00:14<00:00, 488.06 uttr/s, accuracy=0.66, loss=1.48]\n",
      "Train: 100% 2000/2000 [02:17<00:00, 14.53 step/s, accuracy=0.84, loss=0.85, step=18000]\n",
      "Valid: 100% 6944/6944 [00:14<00:00, 486.94 uttr/s, accuracy=0.67, loss=1.44]\n",
      "Train: 100% 2000/2000 [02:18<00:00, 14.46 step/s, accuracy=0.84, loss=0.64, step=2e+4] \n",
      "Valid: 100% 6944/6944 [00:14<00:00, 479.07 uttr/s, accuracy=0.70, loss=1.32]\n",
      "Train:   0% 0/2000 [00:00<?, ? step/s]\n",
      "\n",
      "                                                                                    \n",
      "\n",
      "Train:   0% 3/2000 [00:00<01:59, 16.68 step/s, accuracy=0.72, loss=0.84, step=2e+4]]\u001b[A\u001b[A"
     ]
    },
    {
     "name": "stdout",
     "output_type": "stream",
     "text": [
      "Step 20000, best model saved. (accuracy=0.7013)\n"
     ]
    },
    {
     "name": "stderr",
     "output_type": "stream",
     "text": [
      "Train: 100% 2000/2000 [02:13<00:00, 14.98 step/s, accuracy=0.84, loss=0.43, step=22000]\n",
      "Valid: 100% 6944/6944 [00:14<00:00, 485.93 uttr/s, accuracy=0.69, loss=1.35]\n",
      "Train: 100% 2000/2000 [02:16<00:00, 14.62 step/s, accuracy=0.56, loss=1.76, step=24000]\n",
      "Valid: 100% 6944/6944 [00:13<00:00, 508.85 uttr/s, accuracy=0.73, loss=1.21]\n",
      "Train: 100% 2000/2000 [02:16<00:00, 14.66 step/s, accuracy=0.66, loss=0.95, step=26000]\n",
      "Valid: 100% 6944/6944 [00:14<00:00, 485.94 uttr/s, accuracy=0.73, loss=1.16]\n",
      "Train: 100% 2000/2000 [02:12<00:00, 15.09 step/s, accuracy=0.75, loss=0.76, step=28000]\n",
      "Valid: 100% 6944/6944 [00:13<00:00, 498.39 uttr/s, accuracy=0.73, loss=1.19]\n",
      "Train: 100% 2000/2000 [02:12<00:00, 15.10 step/s, accuracy=0.91, loss=0.55, step=3e+4] \n",
      "Valid: 100% 6944/6944 [00:14<00:00, 482.13 uttr/s, accuracy=0.75, loss=1.12]\n",
      "Train:   0% 0/2000 [00:00<?, ? step/s]\n",
      "\n",
      "                                                                                    \n",
      "\n",
      "Train:   0% 3/2000 [00:00<01:58, 16.88 step/s, accuracy=0.91, loss=0.34, step=3e+4]]\u001b[A\u001b[A"
     ]
    },
    {
     "name": "stdout",
     "output_type": "stream",
     "text": [
      "Step 30000, best model saved. (accuracy=0.7463)\n"
     ]
    },
    {
     "name": "stderr",
     "output_type": "stream",
     "text": [
      "Train: 100% 2000/2000 [02:12<00:00, 15.15 step/s, accuracy=0.88, loss=0.55, step=32000]\n",
      "Valid: 100% 6944/6944 [00:13<00:00, 498.96 uttr/s, accuracy=0.75, loss=1.09]\n",
      "Train: 100% 2000/2000 [02:13<00:00, 15.00 step/s, accuracy=0.69, loss=1.05, step=34000]\n",
      "Valid: 100% 6944/6944 [00:14<00:00, 488.81 uttr/s, accuracy=0.77, loss=1.02]\n",
      "Train: 100% 2000/2000 [02:13<00:00, 15.02 step/s, accuracy=0.81, loss=0.73, step=36000]\n",
      "Valid: 100% 6944/6944 [00:13<00:00, 497.29 uttr/s, accuracy=0.78, loss=1.01]\n",
      "Train: 100% 2000/2000 [02:13<00:00, 14.98 step/s, accuracy=0.94, loss=0.39, step=38000]\n",
      "Valid: 100% 6944/6944 [00:14<00:00, 485.86 uttr/s, accuracy=0.79, loss=0.93]\n",
      "Train: 100% 2000/2000 [02:12<00:00, 15.04 step/s, accuracy=0.75, loss=0.63, step=4e+4] \n",
      "Valid: 100% 6944/6944 [00:13<00:00, 499.60 uttr/s, accuracy=0.79, loss=0.97]\n",
      "Train:   0% 0/2000 [00:00<?, ? step/s]\n",
      "\n",
      "                                                                                    \n",
      "\n",
      "Train:   0% 2/2000 [00:00<02:26, 13.60 step/s, accuracy=0.88, loss=0.58, step=4e+4]]\u001b[A\u001b[A"
     ]
    },
    {
     "name": "stdout",
     "output_type": "stream",
     "text": [
      "Step 40000, best model saved. (accuracy=0.7908)\n"
     ]
    },
    {
     "name": "stderr",
     "output_type": "stream",
     "text": [
      "Train: 100% 2000/2000 [02:13<00:00, 14.96 step/s, accuracy=0.78, loss=0.63, step=42000]\n",
      "Valid: 100% 6944/6944 [00:14<00:00, 479.57 uttr/s, accuracy=0.79, loss=0.92]\n",
      "Train: 100% 2000/2000 [02:13<00:00, 15.00 step/s, accuracy=0.84, loss=0.55, step=44000]\n",
      "Valid: 100% 6944/6944 [00:14<00:00, 493.09 uttr/s, accuracy=0.80, loss=0.90]\n",
      "Train: 100% 2000/2000 [02:13<00:00, 15.02 step/s, accuracy=0.88, loss=0.45, step=46000]\n",
      "Valid: 100% 6944/6944 [00:14<00:00, 487.24 uttr/s, accuracy=0.81, loss=0.87]\n",
      "Train: 100% 2000/2000 [02:12<00:00, 15.04 step/s, accuracy=1.00, loss=0.09, step=48000]\n",
      "Valid: 100% 6944/6944 [00:14<00:00, 488.63 uttr/s, accuracy=0.82, loss=0.83]\n",
      "Train: 100% 2000/2000 [02:12<00:00, 15.07 step/s, accuracy=0.91, loss=0.37, step=5e+4] \n",
      "Valid: 100% 6944/6944 [00:14<00:00, 481.33 uttr/s, accuracy=0.81, loss=0.84]\n",
      "Train:   0% 0/2000 [00:00<?, ? step/s]\n",
      "\n",
      "                                                                                    \n",
      "\n",
      "Train:   0% 2/2000 [00:00<02:40, 12.49 step/s, accuracy=0.94, loss=0.40, step=5e+4]]\u001b[A\u001b[A"
     ]
    },
    {
     "name": "stdout",
     "output_type": "stream",
     "text": [
      "Step 50000, best model saved. (accuracy=0.8167)\n"
     ]
    },
    {
     "name": "stderr",
     "output_type": "stream",
     "text": [
      "Train: 100% 2000/2000 [02:12<00:00, 15.06 step/s, accuracy=0.91, loss=0.26, step=52000]\n",
      "Valid: 100% 6944/6944 [00:14<00:00, 486.04 uttr/s, accuracy=0.83, loss=0.80]\n",
      "Train: 100% 2000/2000 [02:12<00:00, 15.04 step/s, accuracy=0.91, loss=0.41, step=54000]\n",
      "Valid: 100% 6944/6944 [00:14<00:00, 489.53 uttr/s, accuracy=0.83, loss=0.77]\n",
      "Train: 100% 2000/2000 [02:11<00:00, 15.16 step/s, accuracy=0.94, loss=0.19, step=56000]\n",
      "Valid: 100% 6944/6944 [00:13<00:00, 498.27 uttr/s, accuracy=0.83, loss=0.77]\n",
      "Train: 100% 2000/2000 [02:12<00:00, 15.14 step/s, accuracy=0.88, loss=0.50, step=58000]\n",
      "Valid: 100% 6944/6944 [00:14<00:00, 483.00 uttr/s, accuracy=0.83, loss=0.78]\n",
      "Train: 100% 2000/2000 [02:11<00:00, 15.22 step/s, accuracy=0.94, loss=0.25, step=6e+4] \n",
      "Valid: 100% 6944/6944 [00:14<00:00, 493.15 uttr/s, accuracy=0.83, loss=0.77]\n",
      "Train:   0% 0/2000 [00:00<?, ? step/s]\n",
      "\n",
      "                                                                                    \n",
      "\n",
      "Train:   0% 3/2000 [00:00<02:23, 13.95 step/s, accuracy=0.88, loss=0.47, step=6e+4]]\u001b[A\u001b[A"
     ]
    },
    {
     "name": "stdout",
     "output_type": "stream",
     "text": [
      "Step 60000, best model saved. (accuracy=0.8317)\n"
     ]
    },
    {
     "name": "stderr",
     "output_type": "stream",
     "text": [
      "Train: 100% 2000/2000 [02:12<00:00, 15.12 step/s, accuracy=0.94, loss=0.23, step=62000]\n",
      "Valid: 100% 6944/6944 [00:14<00:00, 486.92 uttr/s, accuracy=0.84, loss=0.75]\n",
      "Train: 100% 2000/2000 [02:12<00:00, 15.14 step/s, accuracy=0.91, loss=0.43, step=64000]\n",
      "Valid: 100% 6944/6944 [00:13<00:00, 497.96 uttr/s, accuracy=0.84, loss=0.76]\n",
      "Train: 100% 2000/2000 [02:12<00:00, 15.12 step/s, accuracy=0.94, loss=0.29, step=66000]\n",
      "Valid: 100% 6944/6944 [00:14<00:00, 495.16 uttr/s, accuracy=0.84, loss=0.75]\n",
      "Train: 100% 2000/2000 [02:13<00:00, 15.02 step/s, accuracy=0.94, loss=0.24, step=68000]\n",
      "Valid: 100% 6944/6944 [00:14<00:00, 486.41 uttr/s, accuracy=0.84, loss=0.73]\n",
      "Train: 100% 2000/2000 [02:11<00:00, 15.17 step/s, accuracy=0.91, loss=0.62, step=7e+4] \n",
      "Valid: 100% 6944/6944 [00:14<00:00, 495.06 uttr/s, accuracy=0.84, loss=0.76]\n",
      "Train:   0% 0/2000 [00:00<?, ? step/s]\n",
      "\n",
      "                                                                                    \n",
      "\n",
      "Train:   0% 0/2000 [00:00<?, ? step/s].09 step/s, accuracy=0.00, loss=6.38, step=64]\u001b[A\u001b[A"
     ]
    },
    {
     "name": "stdout",
     "output_type": "stream",
     "text": [
      "Step 70000, best model saved. (accuracy=0.8432)\n"
     ]
    },
    {
     "name": "stderr",
     "output_type": "stream",
     "text": [
      "\n"
     ]
    }
   ],
   "source": [
    "from tqdm import tqdm\n",
    "\n",
    "import torch\n",
    "import torch.nn as nn\n",
    "from torch.optim import AdamW\n",
    "from torch.utils.data import DataLoader, random_split\n",
    "\n",
    "\n",
    "def parse_args():\n",
    "  \"\"\"arguments\"\"\"\n",
    "  config = {\n",
    "    \"data_dir\": \"Dataset\",\n",
    "    \"save_path\": \"model.ckpt\",\n",
    "    \"batch_size\": 32,\n",
    "    \"n_workers\": 0,\n",
    "    \"valid_steps\": 2000,\n",
    "    \"warmup_steps\": 1000,\n",
    "    \"save_steps\": 10000,\n",
    "    \"total_steps\": 70000,\n",
    "  }\n",
    "\n",
    "  return config\n",
    "\n",
    "\n",
    "def main(\n",
    "  data_dir,\n",
    "  save_path,\n",
    "  batch_size,\n",
    "  n_workers,\n",
    "  valid_steps,\n",
    "  warmup_steps,\n",
    "  total_steps,\n",
    "  save_steps,\n",
    "):\n",
    "  \"\"\"Main function.\"\"\"\n",
    "  \n",
    "  device = torch.device(\"cuda\" if torch.cuda.is_available() else \"cpu\")\n",
    "  print(f\"[Info]: Use {device} now!\")\n",
    "  train_loader, valid_loader, speaker_num = get_dataloader(data_dir, batch_size, n_workers)\n",
    "  print(\"get loader finished\")\n",
    "  train_iterator = iter(train_loader)\n",
    "  print(f\"[Info]: Finish loading data!\",flush = True)\n",
    "\n",
    "  model = Classifier(n_spks=speaker_num,device=device).to(device)\n",
    "  criterion = nn.CrossEntropyLoss()\n",
    "  optimizer = AdamW(model.parameters(), lr=1e-3)\n",
    "  scheduler = get_cosine_schedule_with_warmup(optimizer, warmup_steps, total_steps)\n",
    "  print(f\"[Info]: Finish creating model!\",flush = True)\n",
    "\n",
    "  best_accuracy = -1.0\n",
    "  best_state_dict = None\n",
    "\n",
    "  pbar = tqdm(total=valid_steps, ncols=0, desc=\"Train\", unit=\" step\")\n",
    "\n",
    "  for step in range(total_steps):\n",
    "    # Get data\n",
    "    try:\n",
    "      batch = next(train_iterator)\n",
    "    except StopIteration:\n",
    "      train_iterator = iter(train_loader)\n",
    "      batch = next(train_iterator)\n",
    "\n",
    "    loss, accuracy = model_fn(batch, model, criterion, device)\n",
    "    batch_loss = loss.item()\n",
    "    batch_accuracy = accuracy.item()\n",
    "\n",
    "    # Updata model\n",
    "    loss.backward()\n",
    "    optimizer.step()\n",
    "    scheduler.step()\n",
    "    optimizer.zero_grad()\n",
    "    \n",
    "    # Log\n",
    "    pbar.update()\n",
    "    pbar.set_postfix(\n",
    "      loss=f\"{batch_loss:.2f}\",\n",
    "      accuracy=f\"{batch_accuracy:.2f}\",\n",
    "      step=step + 1,\n",
    "    )\n",
    "    sleep(0.01)\n",
    "    # Do validation\n",
    "    if (step + 1) % valid_steps == 0:\n",
    "      pbar.close()\n",
    "\n",
    "      valid_accuracy = valid(valid_loader, model, criterion, device)\n",
    "\n",
    "      # keep the best model\n",
    "      if valid_accuracy > best_accuracy:\n",
    "        best_accuracy = valid_accuracy\n",
    "        best_state_dict = model.state_dict()\n",
    "\n",
    "      pbar = tqdm(total=valid_steps, ncols=0, desc=\"Train\", unit=\" step\")\n",
    "\n",
    "    # Save the best model so far.\n",
    "    if (step + 1) % save_steps == 0 and best_state_dict is not None:\n",
    "      torch.save(best_state_dict, save_path)\n",
    "      pbar.write(f\"Step {step + 1}, best model saved. (accuracy={best_accuracy:.4f})\")\n",
    "\n",
    "  pbar.close()\n",
    "\n",
    "\n",
    "if __name__ == '__main__':\n",
    "  torch.set_num_threads(4)\n",
    "  main(**parse_args())\n"
   ]
  },
  {
   "cell_type": "markdown",
   "metadata": {
    "id": "0R2rx3AyHpQ-"
   },
   "source": [
    "# Inference"
   ]
  },
  {
   "cell_type": "markdown",
   "metadata": {
    "id": "pSuI3WY9Fz78"
   },
   "source": [
    "## Dataset of inference"
   ]
  },
  {
   "cell_type": "code",
   "execution_count": 255,
   "metadata": {
    "id": "4evns0055Dsx"
   },
   "outputs": [],
   "source": [
    "import os\n",
    "import json\n",
    "import torch\n",
    "from pathlib import Path\n",
    "from torch.utils.data import Dataset\n",
    "\n",
    "\n",
    "class InferenceDataset(Dataset):\n",
    "  def __init__(self, data_dir):\n",
    "    testdata_path = Path(data_dir) / \"testdata.json\"\n",
    "    metadata = json.load(testdata_path.open())\n",
    "    self.data_dir = data_dir\n",
    "    self.data = metadata[\"utterances\"]\n",
    "\n",
    "  def __len__(self):\n",
    "    return len(self.data)\n",
    "\n",
    "  def __getitem__(self, index):\n",
    "    utterance = self.data[index]\n",
    "    feat_path = utterance[\"feature_path\"]\n",
    "    mel = torch.load(os.path.join(self.data_dir, feat_path))\n",
    "\n",
    "    return feat_path, mel\n",
    "\n",
    "\n",
    "def inference_collate_batch(batch):\n",
    "  \"\"\"Collate a batch of data.\"\"\"\n",
    "  feat_paths, mels = zip(*batch)\n",
    "\n",
    "  return feat_paths, torch.stack(mels)\n"
   ]
  },
  {
   "cell_type": "markdown",
   "metadata": {
    "id": "oAinHBG1GIWv"
   },
   "source": [
    "## Main funcrion of Inference"
   ]
  },
  {
   "cell_type": "code",
   "execution_count": 256,
   "metadata": {
    "id": "yQaTt7VDHoRI"
   },
   "outputs": [
    {
     "name": "stdout",
     "output_type": "stream",
     "text": [
      "[Info]: Use cuda now!\n",
      "[Info]: Finish loading data!\n",
      "[Info]: Finish creating model!\n"
     ]
    },
    {
     "name": "stderr",
     "output_type": "stream",
     "text": [
      "100%|█████████████████████████████████████████████████████████████████████████████| 6000/6000 [00:32<00:00, 186.26it/s]\n"
     ]
    }
   ],
   "source": [
    "import json\n",
    "import csv\n",
    "from pathlib import Path\n",
    "from tqdm import tqdm\n",
    "\n",
    "import torch\n",
    "from torch.utils.data import DataLoader\n",
    "\n",
    "def parse_args():\n",
    "  \"\"\"arguments\"\"\"\n",
    "  config = {\n",
    "    \"data_dir\": \"Dataset\",\n",
    "    \"model_path\": \"model.ckpt\",\n",
    "    \"output_path\": \"output.csv\",\n",
    "  }\n",
    "\n",
    "  return config\n",
    "\n",
    "\n",
    "def main(\n",
    "  data_dir,\n",
    "  model_path,\n",
    "  output_path,\n",
    "):\n",
    "  \"\"\"Main function.\"\"\"\n",
    "  device = torch.device(\"cuda\" if torch.cuda.is_available() else \"cpu\")\n",
    "  print(f\"[Info]: Use {device} now!\")\n",
    "\n",
    "  mapping_path = Path(data_dir) / \"mapping.json\"\n",
    "  mapping = json.load(mapping_path.open())\n",
    "\n",
    "  dataset = InferenceDataset(data_dir)\n",
    "  dataloader = DataLoader(\n",
    "    dataset,\n",
    "    batch_size=1,\n",
    "    shuffle=False,\n",
    "    drop_last=False,\n",
    "    num_workers=0,\n",
    "    collate_fn=inference_collate_batch,\n",
    "  )\n",
    "  print(f\"[Info]: Finish loading data!\",flush = True)\n",
    "\n",
    "  speaker_num = len(mapping[\"id2speaker\"])\n",
    "  model = Classifier(n_spks=speaker_num).to(device)\n",
    "  model.load_state_dict(torch.load(model_path))\n",
    "  model.eval()\n",
    "  print(f\"[Info]: Finish creating model!\",flush = True)\n",
    "\n",
    "  results = [[\"Id\", \"Category\"]]\n",
    "  for feat_paths, mels in tqdm(dataloader):\n",
    "    with torch.no_grad():\n",
    "      mels = mels.to(device)\n",
    "      outs = model(mels)\n",
    "      preds = outs.argmax(1).cpu().numpy()\n",
    "      for feat_path, pred in zip(feat_paths, preds):\n",
    "        results.append([feat_path, mapping[\"id2speaker\"][str(pred)]])\n",
    "  \n",
    "  with open(output_path, 'w', newline='') as csvfile:\n",
    "    writer = csv.writer(csvfile)\n",
    "    writer.writerows(results)\n",
    "\n",
    "\n",
    "if __name__ == '__main__':\n",
    "  main(**parse_args())\n"
   ]
  }
 ],
 "metadata": {
  "accelerator": "GPU",
  "colab": {
   "collapsed_sections": [],
   "name": "HW04.ipynb",
   "provenance": [],
   "toc_visible": true
  },
  "kernelspec": {
   "display_name": "Python 3 (ipykernel)",
   "language": "python",
   "name": "python3"
  },
  "language_info": {
   "codemirror_mode": {
    "name": "ipython",
    "version": 3
   },
   "file_extension": ".py",
   "mimetype": "text/x-python",
   "name": "python",
   "nbconvert_exporter": "python",
   "pygments_lexer": "ipython3",
   "version": "3.10.4"
  },
  "varInspector": {
   "cols": {
    "lenName": 16,
    "lenType": 16,
    "lenVar": 40
   },
   "kernels_config": {
    "python": {
     "delete_cmd_postfix": "",
     "delete_cmd_prefix": "del ",
     "library": "var_list.py",
     "varRefreshCmd": "print(var_dic_list())"
    },
    "r": {
     "delete_cmd_postfix": ") ",
     "delete_cmd_prefix": "rm(",
     "library": "var_list.r",
     "varRefreshCmd": "cat(var_dic_list()) "
    }
   },
   "types_to_exclude": [
    "module",
    "function",
    "builtin_function_or_method",
    "instance",
    "_Feature"
   ],
   "window_display": false
  }
 },
 "nbformat": 4,
 "nbformat_minor": 1
}
